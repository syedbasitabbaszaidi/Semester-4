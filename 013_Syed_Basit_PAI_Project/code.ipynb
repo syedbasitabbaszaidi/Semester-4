{
 "cells": [
  {
   "cell_type": "markdown",
   "id": "5c446bd4",
   "metadata": {},
   "source": [
    "# Importing Labraries"
   ]
  },
  {
   "cell_type": "code",
   "execution_count": null,
   "id": "3ccfec2a",
   "metadata": {},
   "outputs": [],
   "source": [
    "import pandas as pd\n",
    "import nltk\n",
    "from nltk.tokenize import word_tokenize\n",
    "from nltk.corpus import stopwords , wordnet\n",
    "import re\n",
    "from nltk.stem import WordNetLemmatizer\n",
    "from sklearn.feature_extraction.text import TfidfVectorizer\n",
    "import tensorflow\n",
    "from tensorflow import keras\n",
    "from tensorflow.keras import layers # type: ignore\n",
    "import joblib\n",
    "from sklearn.model_selection import train_test_split\n",
    "from nltk import pos_tag"
   ]
  },
  {
   "cell_type": "markdown",
   "id": "3c7e66e4",
   "metadata": {},
   "source": [
    "# Data Loading"
   ]
  },
  {
   "cell_type": "code",
   "execution_count": null,
   "id": "0a21af00",
   "metadata": {},
   "outputs": [],
   "source": [
    "df = pd.read_csv('news.csv')\n"
   ]
  },
  {
   "cell_type": "markdown",
   "id": "8ac0cfd6",
   "metadata": {},
   "source": [
    "# Data Pre-processing"
   ]
  },
  {
   "cell_type": "code",
   "execution_count": 159,
   "id": "ab676e72",
   "metadata": {},
   "outputs": [],
   "source": [
    "lemmatizer = WordNetLemmatizer()\n",
    "stop_words = set(stopwords.words('english'))"
   ]
  },
  {
   "cell_type": "code",
   "execution_count": 160,
   "id": "d62e4d05",
   "metadata": {},
   "outputs": [],
   "source": [
    "def get_pos(pos):\n",
    "    if pos.startswith('J'):\n",
    "        return wordnet.ADJ\n",
    "    if pos.startswith('N'):\n",
    "        return wordnet.NOUN\n",
    "    if pos.startswith('V'):\n",
    "        return wordnet.VERB\n",
    "    if pos.startswith('R'):\n",
    "        return wordnet.ADV\n",
    "    else:\n",
    "        return wordnet.NOUN"
   ]
  },
  {
   "cell_type": "code",
   "execution_count": 161,
   "id": "f3ab6cd7",
   "metadata": {},
   "outputs": [],
   "source": [
    "def clean_text(text):\n",
    "    text = text.lower()\n",
    "    text = re.sub(r'[^a-z0-9\\s]',' ',text)\n",
    "    text = re.sub(r'\\s+',' ',text).strip()\n",
    "    words = word_tokenize(text)\n",
    "    stp = [w for w in words if w not in stop_words]\n",
    "    pos_tags = pos_tag(stp)\n",
    "    lemma = [lemmatizer.lemmatize(w,get_pos(pos)) for w,pos in pos_tags]\n",
    "    return ' '.join(lemma)"
   ]
  },
  {
   "cell_type": "code",
   "execution_count": 162,
   "id": "8613e929",
   "metadata": {},
   "outputs": [],
   "source": [
    "df['Clean text'] = df['text'].apply(clean_text)\n",
    "df['label'] = df['label'].map({'FAKE':0,'REAL':1})"
   ]
  },
  {
   "cell_type": "markdown",
   "id": "1330d1c0",
   "metadata": {},
   "source": [
    "# Data Exploration"
   ]
  },
  {
   "cell_type": "code",
   "execution_count": 163,
   "id": "5c50b217",
   "metadata": {},
   "outputs": [
    {
     "data": {
      "text/plain": [
       "'Daniel Greenfield, a Shillman Journalism Fellow at the Freedom Center, is a New York writer focusing on radical Islam. \\nIn the final stretch of the election, Hillary Rodham Clinton has gone to war with the FBI. \\nThe word “unprecedented” has been thrown around so often this election that it ought to be retired. But it’s still unprecedented for the nominee of a major political party to go war with the FBI. \\nBut that’s exactly what Hillary and her people have done. Coma patients just waking up now and watching an hour of CNN from their hospital beds would assume that FBI Director James Comey is Hillary’s opponent in this election. \\nThe FBI is under attack by everyone from Obama to CNN. Hillary’s people have circulated a letter attacking Comey. There are currently more media hit pieces lambasting him than targeting Trump. It wouldn’t be too surprising if the Clintons or their allies were to start running attack ads against the FBI. \\nThe FBI’s leadership is being warned that the entire left-wing establishment will form a lynch mob if they continue going after Hillary. And the FBI’s credibility is being attacked by the media and the Democrats to preemptively head off the results of the investigation of the Clinton Foundation and Hillary Clinton. \\nThe covert struggle between FBI agents and Obama’s DOJ people has gone explosively public. \\nThe New York Times has compared Comey to J. Edgar Hoover. Its bizarre headline, “James Comey Role Recalls Hoover’s FBI, Fairly or Not” practically admits up front that it’s spouting nonsense. The Boston Globe has published a column calling for Comey’s resignation. Not to be outdone, Time has an editorial claiming that the scandal is really an attack on all women. \\nJames Carville appeared on MSNBC to remind everyone that he was still alive and insane. He accused Comey of coordinating with House Republicans and the KGB. And you thought the “vast right wing conspiracy” was a stretch. \\nCountless media stories charge Comey with violating procedure. Do you know what’s a procedural violation? Emailing classified information stored on your bathroom server. \\nSenator Harry Reid has sent Comey a letter accusing him of violating the Hatch Act. The Hatch Act is a nice idea that has as much relevance in the age of Obama as the Tenth Amendment. But the cable news spectrum quickly filled with media hacks glancing at the Wikipedia article on the Hatch Act under the table while accusing the FBI director of one of the most awkward conspiracies against Hillary ever. \\nIf James Comey is really out to hurt Hillary, he picked one hell of a strange way to do it. \\nNot too long ago Democrats were breathing a sigh of relief when he gave Hillary Clinton a pass in a prominent public statement. If he really were out to elect Trump by keeping the email scandal going, why did he trash the investigation? Was he on the payroll of House Republicans and the KGB back then and playing it coy or was it a sudden development where Vladimir Putin and Paul Ryan talked him into taking a look at Anthony Weiner’s computer? \\nEither Comey is the most cunning FBI director that ever lived or he’s just awkwardly trying to navigate a political mess that has trapped him between a DOJ leadership whose political futures are tied to Hillary’s victory and his own bureau whose apolitical agents just want to be allowed to do their jobs. \\nThe only truly mysterious thing is why Hillary and her associates decided to go to war with a respected Federal agency. Most Americans like the FBI while Hillary Clinton enjoys a 60% unfavorable rating. \\nAnd it’s an interesting question. \\nHillary’s old strategy was to lie and deny that the FBI even had a criminal investigation underway. Instead her associates insisted that it was a security review. The FBI corrected her and she shrugged it off. But the old breezy denial approach has given way to a savage assault on the FBI. \\nPretending that nothing was wrong was a bad strategy, but it was a better one that picking a fight with the FBI while lunatic Clinton associates try to claim that the FBI is really the KGB. \\nThere are two possible explanations. \\nHillary Clinton might be arrogant enough to lash out at the FBI now that she believes that victory is near. The same kind of hubris that led her to plan her victory fireworks display could lead her to declare a war on the FBI for irritating her during the final miles of her campaign. \\nBut the other explanation is that her people panicked. \\nGoing to war with the FBI is not the behavior of a smart and focused presidential campaign. It’s an act of desperation. When a presidential candidate decides that her only option is to try and destroy the credibility of the FBI, that’s not hubris, it’s fear of what the FBI might be about to reveal about her. \\nDuring the original FBI investigation, Hillary Clinton was confident that she could ride it out. And she had good reason for believing that. But that Hillary Clinton is gone. In her place is a paranoid wreck. Within a short space of time the “positive” Clinton campaign promising to unite the country has been replaced by a desperate and flailing operation that has focused all its energy on fighting the FBI. \\nThere’s only one reason for such bizarre behavior. \\nThe Clinton campaign has decided that an FBI investigation of the latest batch of emails poses a threat to its survival. And so it’s gone all in on fighting the FBI. It’s an unprecedented step born of fear. It’s hard to know whether that fear is justified. But the existence of that fear already tells us a whole lot. \\nClinton loyalists rigged the old investigation. They knew the outcome ahead of time as well as they knew the debate questions. Now suddenly they are no longer in control. And they are afraid. \\nYou can smell the fear. \\nThe FBI has wiretaps from the investigation of the Clinton Foundation. It’s finding new emails all the time. And Clintonworld panicked. The spinmeisters of Clintonworld have claimed that the email scandal is just so much smoke without fire. All that’s here is the appearance of impropriety without any of the substance. But this isn’t how you react to smoke. It’s how you respond to a fire. \\nThe misguided assault on the FBI tells us that Hillary Clinton and her allies are afraid of a revelation bigger than the fundamental illegality of her email setup. The email setup was a preemptive cover up. The Clinton campaign has panicked badly out of the belief, right or wrong, that whatever crime the illegal setup was meant to cover up is at risk of being exposed. \\nThe Clintons have weathered countless scandals over the years. Whatever they are protecting this time around is bigger than the usual corruption, bribery, sexual assaults and abuses of power that have followed them around throughout the years. This is bigger and more damaging than any of the allegations that have already come out. And they don’t want FBI investigators anywhere near it. \\nThe campaign against Comey is pure intimidation. It’s also a warning. Any senior FBI people who value their careers are being warned to stay away. The Democrats are closing ranks around their nominee against the FBI. It’s an ugly and unprecedented scene. It may also be their last stand. \\nHillary Clinton has awkwardly wound her way through numerous scandals in just this election cycle. But she’s never shown fear or desperation before. Now that has changed. Whatever she is afraid of, it lies buried in her emails with Huma Abedin. And it can bring her down like nothing else has.  '"
      ]
     },
     "execution_count": 163,
     "metadata": {},
     "output_type": "execute_result"
    }
   ],
   "source": [
    "df['text'].iloc[0]"
   ]
  },
  {
   "cell_type": "code",
   "execution_count": 164,
   "id": "ab1a13b2",
   "metadata": {},
   "outputs": [
    {
     "data": {
      "text/plain": [
       "'daniel greenfield shillman journalism fellow freedom center new york writer focus radical islam final stretch election hillary rodham clinton go war fbi word unprecedented thrown around often election ought retire still unprecedented nominee major political party go war fbi exactly hillary people do coma patient wake watch hour cnn hospital bed would assume fbi director james comey hillary opponent election fbi attack everyone obama cnn hillary people circulate letter attack comey currently medium hit piece lambast target trump surprising clinton ally start run attack ad fbi fbi leadership warn entire leave wing establishment form lynch mob continue go hillary fbi credibility attack medium democrat preemptively head result investigation clinton foundation hillary clinton covert struggle fbi agent obama doj people go explosively public new york time compare comey j edgar hoover bizarre headline james comey role recall hoover fbi fairly practically admit front spout nonsense boston globe publish column call comey resignation outdone time editorial claim scandal really attack woman james carville appear msnbc remind everyone still alive insane accuse comey coordinate house republicans kgb think vast right wing conspiracy stretch countless medium story charge comey violating procedure know procedural violation email classify information store bathroom server senator harry reid send comey letter accuse violate hatch act hatch act nice idea much relevance age obama tenth amendment cable news spectrum quickly fill medium hack glance wikipedia article hatch act table accuse fbi director one awkward conspiracies hillary ever jam comey really hurt hillary pick one hell strange way long ago democrat breathe sigh relief give hillary clinton pas prominent public statement really elect trump keep email scandal go trash investigation payroll house republicans kgb back play coy sudden development vladimir putin paul ryan talk take look anthony weiner computer either comey cunning fbi director ever live awkwardly try navigate political mess trap doj leadership whose political future tie hillary victory bureau whose apolitical agent want allow job truly mysterious thing hillary associate decide go war respect federal agency american like fbi hillary clinton enjoy 60 unfavorable rating interesting question hillary old strategy lie deny fbi even criminal investigation underway instead associate insist security review fbi correct shrug old breezy denial approach give way savage assault fbi pretend nothing wrong bad strategy well one pick fight fbi lunatic clinton associate try claim fbi really kgb two possible explanation hillary clinton might arrogant enough lash fbi believe victory near kind hubris lead plan victory firework display could lead declare war fbi irritate final mile campaign explanation people panic go war fbi behavior smart focus presidential campaign act desperation presidential candidate decides option try destroy credibility fbi hubris fear fbi might reveal original fbi investigation hillary clinton confident could ride good reason believe hillary clinton go place paranoid wreck within short space time positive clinton campaign promise unite country replace desperate flailing operation focus energy fight fbi one reason bizarre behavior clinton campaign decide fbi investigation late batch email pose threat survival go fight fbi unprecedented step bear fear hard know whether fear justify existence fear already tell u whole lot clinton loyalists rig old investigation know outcome ahead time well know debate question suddenly longer control afraid smell fear fbi wiretap investigation clinton foundation find new emails time clintonworld panic spinmeister clintonworld claim email scandal much smoke without fire appearance impropriety without substance react smoke respond fire misguide assault fbi tell u hillary clinton ally afraid revelation big fundamental illegality email setup email setup preemptive cover clinton campaign panic badly belief right wrong whatever crime illegal setup mean cover risk expose clinton weather countless scandal year whatever protect time around big usual corruption bribery sexual assault abuse power follow around throughout year big damaging allegation already come want fbi investigator anywhere near campaign comey pure intimidation also warn senior fbi people value career warn stay away democrat close rank around nominee fbi ugly unprecedented scene may also last stand hillary clinton awkwardly wind way numerous scandal election cycle never show fear desperation change whatever afraid lie bury email huma abedin bring like nothing else'"
      ]
     },
     "execution_count": 164,
     "metadata": {},
     "output_type": "execute_result"
    }
   ],
   "source": [
    "df['Clean text'].iloc[0]"
   ]
  },
  {
   "cell_type": "markdown",
   "id": "86ed6b53",
   "metadata": {},
   "source": [
    "# Data Splitting"
   ]
  },
  {
   "cell_type": "code",
   "execution_count": 165,
   "id": "ab946f07",
   "metadata": {},
   "outputs": [],
   "source": [
    "train_X,test_X,train_y,test_y = train_test_split(df['Clean text'],df['label'],test_size=0.2,random_state=42)"
   ]
  },
  {
   "cell_type": "code",
   "execution_count": 166,
   "id": "7659e466",
   "metadata": {},
   "outputs": [],
   "source": [
    "vector = TfidfVectorizer()"
   ]
  },
  {
   "cell_type": "code",
   "execution_count": 167,
   "id": "73d59275",
   "metadata": {},
   "outputs": [],
   "source": [
    "train_X_vector = vector.fit_transform(train_X).toarray()\n",
    "test_X_vector = vector.transform(test_X).toarray()"
   ]
  },
  {
   "cell_type": "markdown",
   "id": "9603461b",
   "metadata": {},
   "source": [
    "# Model training"
   ]
  },
  {
   "cell_type": "code",
   "execution_count": 168,
   "id": "f29922bf",
   "metadata": {},
   "outputs": [],
   "source": [
    "input_dim = train_X_vector.shape[1]"
   ]
  },
  {
   "cell_type": "code",
   "execution_count": 169,
   "id": "5f5ec04f",
   "metadata": {},
   "outputs": [],
   "source": [
    "model = keras.Sequential([\n",
    "    layers.Dense(128,activation='relu',input_shape=(input_dim,)),\n",
    "    layers.Dense(64,activation='relu'),\n",
    "    layers.Dense(1,activation='sigmoid')\n",
    "])\n",
    "model.compile(optimizer='adam', loss='binary_crossentropy', metrics=['accuracy'])"
   ]
  },
  {
   "cell_type": "code",
   "execution_count": 170,
   "id": "56421921",
   "metadata": {},
   "outputs": [
    {
     "name": "stdout",
     "output_type": "stream",
     "text": [
      "Epoch 1/10\n",
      "80/80 [==============================] - 9s 97ms/step - loss: 0.3962 - accuracy: 0.8684 - val_loss: 0.1608 - val_accuracy: 0.9384\n",
      "Epoch 2/10\n",
      "80/80 [==============================] - 7s 82ms/step - loss: 0.0584 - accuracy: 0.9836 - val_loss: 0.1406 - val_accuracy: 0.9369\n",
      "Epoch 3/10\n",
      "80/80 [==============================] - 7s 83ms/step - loss: 0.0102 - accuracy: 0.9982 - val_loss: 0.1423 - val_accuracy: 0.9384\n",
      "Epoch 4/10\n",
      "80/80 [==============================] - 6s 70ms/step - loss: 0.0034 - accuracy: 0.9998 - val_loss: 0.1502 - val_accuracy: 0.9369\n",
      "Epoch 5/10\n",
      "80/80 [==============================] - 6s 69ms/step - loss: 0.0016 - accuracy: 0.9998 - val_loss: 0.1566 - val_accuracy: 0.9369\n",
      "Epoch 6/10\n",
      "80/80 [==============================] - 6s 69ms/step - loss: 8.9019e-04 - accuracy: 1.0000 - val_loss: 0.1628 - val_accuracy: 0.9384\n",
      "Epoch 7/10\n",
      "80/80 [==============================] - 5s 68ms/step - loss: 5.7107e-04 - accuracy: 1.0000 - val_loss: 0.1674 - val_accuracy: 0.9392\n",
      "Epoch 8/10\n",
      "80/80 [==============================] - 6s 70ms/step - loss: 3.9926e-04 - accuracy: 1.0000 - val_loss: 0.1722 - val_accuracy: 0.9392\n",
      "Epoch 9/10\n",
      "80/80 [==============================] - 6s 71ms/step - loss: 2.9414e-04 - accuracy: 1.0000 - val_loss: 0.1759 - val_accuracy: 0.9384\n",
      "Epoch 10/10\n",
      "80/80 [==============================] - 6s 70ms/step - loss: 2.2405e-04 - accuracy: 1.0000 - val_loss: 0.1794 - val_accuracy: 0.9384\n"
     ]
    },
    {
     "data": {
      "text/plain": [
       "<keras.callbacks.History at 0x2e3f2ea1820>"
      ]
     },
     "execution_count": 170,
     "metadata": {},
     "output_type": "execute_result"
    }
   ],
   "source": [
    "model.fit(train_X_vector,train_y,epochs=10,batch_size=64,validation_data=(test_X_vector,test_y))"
   ]
  },
  {
   "cell_type": "code",
   "execution_count": 171,
   "id": "555d5b62",
   "metadata": {},
   "outputs": [
    {
     "name": "stdout",
     "output_type": "stream",
     "text": [
      "40/40 [==============================] - 0s 7ms/step - loss: 0.1794 - accuracy: 0.9384\n"
     ]
    },
    {
     "data": {
      "text/plain": [
       "[0.17939774692058563, 0.938437283039093]"
      ]
     },
     "execution_count": 171,
     "metadata": {},
     "output_type": "execute_result"
    }
   ],
   "source": [
    "model.evaluate(test_X_vector,test_y)"
   ]
  },
  {
   "cell_type": "markdown",
   "id": "8dc9c57d",
   "metadata": {},
   "source": [
    "# Saving model and vectorizer"
   ]
  },
  {
   "cell_type": "code",
   "execution_count": 172,
   "id": "44f32cc5",
   "metadata": {},
   "outputs": [
    {
     "data": {
      "text/plain": [
       "['news_vectorizer.joblib']"
      ]
     },
     "execution_count": 172,
     "metadata": {},
     "output_type": "execute_result"
    }
   ],
   "source": [
    "joblib.dump(vector,'news_vectorizer.joblib')"
   ]
  },
  {
   "cell_type": "code",
   "execution_count": 173,
   "id": "b5765259",
   "metadata": {},
   "outputs": [],
   "source": [
    "model.save('news_model.h5')"
   ]
  }
 ],
 "metadata": {
  "kernelspec": {
   "display_name": "env",
   "language": "python",
   "name": "python3"
  },
  "language_info": {
   "codemirror_mode": {
    "name": "ipython",
    "version": 3
   },
   "file_extension": ".py",
   "mimetype": "text/x-python",
   "name": "python",
   "nbconvert_exporter": "python",
   "pygments_lexer": "ipython3",
   "version": "3.9.13"
  }
 },
 "nbformat": 4,
 "nbformat_minor": 5
}
