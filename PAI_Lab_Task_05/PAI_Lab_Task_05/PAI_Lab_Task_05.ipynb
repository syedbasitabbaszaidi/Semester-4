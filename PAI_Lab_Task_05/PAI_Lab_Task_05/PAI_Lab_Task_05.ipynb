{
 "cells": [
  {
   "cell_type": "code",
   "execution_count": 4,
   "id": "37a09c4a",
   "metadata": {},
   "outputs": [],
   "source": [
    "import cv2 as cv"
   ]
  },
  {
   "cell_type": "code",
   "execution_count": 5,
   "id": "ec64b3f6",
   "metadata": {},
   "outputs": [],
   "source": [
    "# Reading image\n",
    "image = cv.imread('tree.jpg')"
   ]
  },
  {
   "cell_type": "code",
   "execution_count": 6,
   "id": "6c0efe53",
   "metadata": {},
   "outputs": [],
   "source": [
    "# Displying Image\n",
    "cv.imshow('Tree',image)\n",
    "cv.waitKey(0)\n",
    "cv.destroyAllWindows()"
   ]
  },
  {
   "cell_type": "code",
   "execution_count": 7,
   "id": "3a959e85",
   "metadata": {},
   "outputs": [],
   "source": [
    "# Wrting image\n",
    "img = cv.imread('bird.jpg')\n",
    "cv.imwrite('bird image.jpg',img)\n",
    "cv.imshow('Bird',img)\n",
    "cv.waitKey(0)\n",
    "cv.destroyAllWindows()"
   ]
  },
  {
   "cell_type": "code",
   "execution_count": 8,
   "id": "ad169bd9",
   "metadata": {},
   "outputs": [],
   "source": [
    "# Color Spaces\n",
    "img = cv.imread('bird.jpg')\n",
    "B,G,R = cv.split(img)\n",
    "cv.imshow('Orignal image',img)\n",
    "cv.waitKey(0)\n",
    "cv.destroyAllWindows()"
   ]
  },
  {
   "cell_type": "code",
   "execution_count": 9,
   "id": "3416dc50",
   "metadata": {},
   "outputs": [],
   "source": [
    "# Blue image\n",
    "cv.imshow(\"Blue image\",B)\n",
    "cv.waitKey(0)\n",
    "cv.destroyAllWindows()"
   ]
  },
  {
   "cell_type": "code",
   "execution_count": 10,
   "id": "da5d5bb5",
   "metadata": {},
   "outputs": [],
   "source": [
    "# Green image\n",
    "cv.imshow('Green image',G)\n",
    "cv.waitKey(0)\n",
    "cv.destroyAllWindows()"
   ]
  },
  {
   "cell_type": "code",
   "execution_count": 11,
   "id": "f60cae3e",
   "metadata": {},
   "outputs": [],
   "source": [
    "# Red image\n",
    "cv.imshow('Red image',R)\n",
    "cv.waitKey(0)\n",
    "cv.destroyAllWindows()"
   ]
  },
  {
   "cell_type": "code",
   "execution_count": 12,
   "id": "5d4c3aae",
   "metadata": {},
   "outputs": [],
   "source": [
    "# Adding image\n",
    "img1 = cv.imread('tree.jpg')\n",
    "img2 = cv.imread('bird.jpg')\n",
    "img2 = cv.resize(img2,(1280,797))\n",
    "add_image = cv.addWeighted(img1,0.5,img2,0.5,0)\n",
    "cv.imshow(\"Added image\",add_image)\n",
    "cv.waitKey(0)\n",
    "cv.destroyAllWindows()"
   ]
  },
  {
   "cell_type": "code",
   "execution_count": 13,
   "id": "162f2987",
   "metadata": {},
   "outputs": [],
   "source": [
    "# Resizing image\n",
    "img = cv.imread('tree.jpg')\n",
    "resize_shape = cv.resize(img,None,fx=0.5,fy=0.5)\n",
    "cv.imshow(\"Resized image\",resize_shape)\n",
    "cv.waitKey(0)\n",
    "cv.destroyAllWindows()"
   ]
  },
  {
   "cell_type": "code",
   "execution_count": 14,
   "id": "2616ee18",
   "metadata": {},
   "outputs": [],
   "source": [
    "# Blurring image\n",
    "img = cv.imread('tree.jpg')"
   ]
  },
  {
   "cell_type": "code",
   "execution_count": 15,
   "id": "61fb917e",
   "metadata": {},
   "outputs": [],
   "source": [
    "# Gaussian Blurr\n",
    "G_blurr = cv.GaussianBlur(img,(7,7),0)\n",
    "cv.imshow(\"Gaussian\",G_blurr)\n",
    "cv.waitKey(0)\n",
    "cv.destroyAllWindows()"
   ]
  },
  {
   "cell_type": "code",
   "execution_count": 16,
   "id": "a6bae472",
   "metadata": {},
   "outputs": [],
   "source": [
    "# Mediam Blurr\n",
    "M_blurr = cv.medianBlur(img,15)\n",
    "cv.imshow(\"Median\",M_blurr)\n",
    "cv.waitKey(0)\n",
    "cv.destroyAllWindows()"
   ]
  },
  {
   "cell_type": "code",
   "execution_count": 17,
   "id": "80cf3b4d",
   "metadata": {},
   "outputs": [],
   "source": [
    "# Add Border\n",
    "img = cv.imread('bird.jpg')\n",
    "border = cv.copyMakeBorder(img,20,10,15,25,cv.BORDER_CONSTANT,value=(255,255,0))\n",
    "cv.imshow('Adding border',border)\n",
    "cv.waitKey(0)\n",
    "cv.destroyAllWindows()"
   ]
  },
  {
   "cell_type": "code",
   "execution_count": 18,
   "id": "a9bddeca",
   "metadata": {},
   "outputs": [],
   "source": [
    "# Gray Scale\n",
    "img = cv.imread('tree.jpg')\n",
    "gray = cv.cvtColor(img,cv.COLOR_BGR2GRAY)\n",
    "cv.imshow(\"Gray image\",gray)\n",
    "cv.waitKey(0)\n",
    "cv.destroyAllWindows()"
   ]
  },
  {
   "cell_type": "code",
   "execution_count": 19,
   "id": "fdb8d37d",
   "metadata": {},
   "outputs": [],
   "source": [
    "# Rotate an image\n",
    "img = cv.imread('bird.jpg')\n",
    "w,h = img.shape[:2]\n",
    "matrix = cv.getRotationMatrix2D((w//2,h//2),60,1.0)\n",
    "rotate = cv.warpAffine(img,matrix,(w,h))\n",
    "cv.imshow(\"Rotated image\",rotate)\n",
    "cv.waitKey(0)\n",
    "cv.destroyAllWindows()"
   ]
  },
  {
   "cell_type": "code",
   "execution_count": 20,
   "id": "14eba9c9",
   "metadata": {},
   "outputs": [],
   "source": [
    "# Translate an image\n",
    "import numpy as np\n",
    "img = cv.imread('bird.jpg')\n",
    "tx = 100\n",
    "ty = 100\n",
    "matrix = np.float32([[1,0,tx],[0,1,ty]])\n",
    "tranlate_img = cv.warpAffine(img,matrix,img.shape[:2])\n",
    "cv.imshow(\"tranlated image\",tranlate_img)\n",
    "cv.waitKey(0)\n",
    "cv.destroyAllWindows()"
   ]
  },
  {
   "cell_type": "code",
   "execution_count": 21,
   "id": "1b9ee9ba",
   "metadata": {},
   "outputs": [],
   "source": [
    "# Edge detection\n",
    "img = cv.imread('bird.jpg',cv.IMREAD_GRAYSCALE)\n",
    "canny = cv.Canny(img,100,200)\n",
    "cv.imshow(\"Canny\",canny)\n",
    "cv.waitKey(0)\n",
    "cv.destroyAllWindows()"
   ]
  },
  {
   "cell_type": "code",
   "execution_count": 22,
   "id": "5223756a",
   "metadata": {},
   "outputs": [],
   "source": [
    "# Erosion\n",
    "img = cv.imread('tree.jpg')\n",
    "kernel = np.ones((5,5))\n",
    "eroded = cv.erode(img,kernel,iterations=1)\n",
    "cv.imshow(\"Eroded\",eroded)\n",
    "cv.waitKey(0)\n",
    "cv.destroyAllWindows()"
   ]
  },
  {
   "cell_type": "code",
   "execution_count": 82,
   "id": "844009fb",
   "metadata": {},
   "outputs": [],
   "source": [
    "# Dilation\n",
    "dil = cv.dilate(img,kernel,iterations=1)\n",
    "cv.imshow(\"Dilated image\",dil)\n",
    "cv.waitKey(0)\n",
    "cv.destroyAllWindows()"
   ]
  },
  {
   "cell_type": "code",
   "execution_count": 83,
   "id": "2492efca",
   "metadata": {},
   "outputs": [],
   "source": [
    "# Blank image\n",
    "canvas = np.zeros((500,500,3))\n",
    "cv.imshow(\"Blank image\",canvas)\n",
    "cv.waitKey(0)\n",
    "cv.destroyAllWindows()"
   ]
  },
  {
   "cell_type": "code",
   "execution_count": 84,
   "id": "ac0dfb71",
   "metadata": {},
   "outputs": [],
   "source": [
    "# Line\n",
    "line = cv.line(canvas,(0,0),(500,500),(0,255,0),3)\n",
    "cv.imshow(\"Line\",line)\n",
    "cv.waitKey(0)\n",
    "cv.destroyAllWindows()"
   ]
  },
  {
   "cell_type": "code",
   "execution_count": 85,
   "id": "08db9bcb",
   "metadata": {},
   "outputs": [],
   "source": [
    "# Circle\n",
    "circle = cv.circle(canvas,(250,250),10,(255,0,0),50)\n",
    "cv.imshow(\"Circle\",circle)\n",
    "cv.waitKey(0)\n",
    "cv.destroyAllWindows()"
   ]
  },
  {
   "cell_type": "code",
   "execution_count": 86,
   "id": "7be2b8ed",
   "metadata": {},
   "outputs": [],
   "source": [
    "# Rectangle\n",
    "rect = cv.rectangle(canvas,(200,200),(300,300),(0,0,255),10)\n",
    "cv.imshow(\"Rectangle\",rect)\n",
    "cv.waitKey(0)\n",
    "cv.destroyAllWindows()"
   ]
  },
  {
   "cell_type": "code",
   "execution_count": 87,
   "id": "7ce57687",
   "metadata": {},
   "outputs": [],
   "source": [
    "# Ellips\n",
    "ell = cv.ellipse(canvas,(250,250),(150,100),180,0,360,(255,255,0),3)\n",
    "cv.imshow(\"Ellipse\",ell)\n",
    "cv.waitKey(0)\n",
    "cv.destroyAllWindows()"
   ]
  },
  {
   "cell_type": "code",
   "execution_count": 88,
   "id": "75e20817",
   "metadata": {},
   "outputs": [],
   "source": [
    "# Arrowd Line\n",
    "arrow = cv.arrowedLine(canvas,(150,350),(350,150),(0,255,255),3)\n",
    "cv.imshow(\"Arrowed line\",arrow)\n",
    "cv.waitKey(0)\n",
    "cv.destroyAllWindows()"
   ]
  },
  {
   "cell_type": "code",
   "execution_count": null,
   "id": "ba28e0cb",
   "metadata": {},
   "outputs": [],
   "source": []
  }
 ],
 "metadata": {
  "kernelspec": {
   "display_name": "Python 3 (ipykernel)",
   "language": "python",
   "name": "python3"
  },
  "language_info": {
   "codemirror_mode": {
    "name": "ipython",
    "version": 3
   },
   "file_extension": ".py",
   "mimetype": "text/x-python",
   "name": "python",
   "nbconvert_exporter": "python",
   "pygments_lexer": "ipython3",
   "version": "3.11.5"
  }
 },
 "nbformat": 4,
 "nbformat_minor": 5
}
