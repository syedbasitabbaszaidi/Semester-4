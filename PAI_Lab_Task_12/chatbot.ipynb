{
  "cells": [
    {
      "cell_type": "code",
      "execution_count": 17,
      "id": "7ad5477b",
      "metadata": {
        "id": "7ad5477b"
      },
      "outputs": [],
      "source": [
        "import nltk\n",
        "from nltk.chat.util import Chat, reflections\n",
        "import pandas as pd\n",
        "import glob\n",
        "# !pip install faiss-cpu\n",
        "import re\n",
        "\n",
        "from sentence_transformers import SentenceTransformer\n",
        "import numpy as np\n",
        "\n",
        "import faiss\n",
        "# Define chatbot responses\n",
        "pairs = [\n",
        "    [r\"(?i).*hello.*|.*hi.*|.*hey.*\", [\"Hello! Welcome to our hotel. How can I assist you?\", \"Hi there! Looking for information about our hotel?\", \"Hey! How may I help you with your hotel inquiries?\"]],\n",
        "    [r\"(?i).*rooms available.*|.*room types.*|.*accommodation options.*\", [\"We offer single, double, deluxe, and suite rooms with modern amenities.\", \"Our hotel provides a variety of rooms, including standard, luxury, and family suites.\", \"You can choose from single, double, executive, and penthouse suites.\"]],\n",
        "    [r\"(?i).*room rates.*|.*price of rooms.*|.*cost per night.*\", [\"Room rates depend on the type and season. Standard rooms start from $100 per night.\", \"Prices vary based on availability and season. Visit our website for the latest rates.\", \"Our hotel offers competitive pricing. Contact us for special discounts.\"]],\n",
        "    [r\"(?i).*amenities.*|.*facilities.*|.*services provided.*\", [\"We offer free Wi-Fi, a swimming pool, spa, gym, and 24/7 room service.\", \"Our facilities include a business center, fine dining restaurant, and airport shuttle service.\", \"Enjoy our rooftop lounge, in-room dining, and exclusive spa treatments.\"]],\n",
        "    [r\"(?i).*check-in time.*|.*when can i check in.*\", [\"Check-in time starts from 2:00 PM. Early check-in is available upon request.\", \"You can check in from 2:00 PM onwards. Please inform us if you need early check-in.\", \"Standard check-in is from 2 PM. Let us know if you have special timing needs.\"]],\n",
        "    [r\"(?i).*check-out time.*|.*when to check out.*\", [\"Check-out time is 12:00 PM. Late check-out may be available upon request.\", \"You must check out by 12:00 PM. Contact reception for late check-out options.\", \"Check-out is at noon. Let us know if you need to extend your stay.\"]],\n",
        "    [r\"(?i).*booking.*|.*reservation.*|.*how to book.*\", [\"You can book a room online through our website or call our reception for reservations.\", \"Visit our website or contact our front desk to make a reservation.\", \"To book a room, go to our booking page or call our reservation hotline.\"]],\n",
        "    [r\"(?i).*cancellation policy.*|.*refund policy.*\", [\"Our cancellation policy allows free cancellations up to 24 hours before check-in.\", \"If you cancel within 24 hours of check-in, a cancellation fee may apply.\", \"Full refunds are available for cancellations made at least 1 day in advance.\"]],\n",
        "    [r\"(?i).*location.*|.*where is the hotel.*|.*hotel address.*\", [\"Our hotel is located in the city center, near major attractions.\", \"You can find us at 123 Main Street, Downtown.\", \"Visit our website for detailed location and directions.\"]],\n",
        "    [r\"(?i).*restaurant.*|.*dining options.*|.*food services.*\", [\"We have a multi-cuisine restaurant, a coffee shop, and in-room dining service.\", \"Enjoy fine dining at our hotel restaurant or grab a quick snack at our café.\", \"Our hotel offers buffet breakfast, à la carte dining, and 24/7 room service.\"]],\n",
        "    [r\"(?i).*airport shuttle.*|.*transportation.*|.*pick-up service.*\", [\"Yes, we offer airport pick-up and drop-off services. Contact us to schedule a ride.\", \"Our hotel provides shuttle services to and from the airport.\", \"You can request an airport transfer while booking your stay.\"]],\n",
        "    [r\"(?i).*parking.*|.*car parking.*|.*is parking available.*\", [\"Yes, we offer free parking for all guests staying at our hotel.\", \"We have secure parking facilities available for guests.\", \"Our hotel provides both valet and self-parking options.\"]],\n",
        "    [r\"(?i).*pet policy.*|.*are pets allowed.*|.*bring my pet.*\", [\"Yes, our hotel is pet-friendly. Please inform us in advance if you’re bringing a pet.\", \"Pets are allowed in designated rooms. Additional charges may apply.\", \"We welcome pets, but certain restrictions apply. Contact us for details.\"]],\n",
        "    [r\"(?i).*bye.*|.*goodbye.*|.*see you later.*\", [\"Goodbye! Have a great stay at our hotel.\", \"See you later! Let us know if you need more assistance.\", \"Alright, take care! We hope to welcome you soon.\"]],\n",
        "    [r'(?i).*hadith.*',['Write your Querey here.']]\n",
        "]\n",
        "\n",
        "chatbot = Chat(pairs, reflections)\n",
        "\n",
        "def chat():\n",
        "    print(\"Hello! I am your hotel assistant. How can I help you today?\")\n",
        "\n",
        "    while True:\n",
        "        user_input = input(\"You: \")\n",
        "        response = chatbot.respond(user_input)\n",
        "        print(f\"Bot: {response}\")\n",
        "        if response in [\"Goodbye! Have a great stay at our hotel.\", \"See you later! Let us know if you need more assistance.\", \"Alright, take care! We hope to welcome you soon.\"]:\n",
        "          break\n",
        "        if response in ['Write your Querey here.']:\n",
        "          u_input = input('You:')\n",
        "          retrieve_similar_hadiths(u_input,model,index,hadith_df_en)\n",
        "        if not response:\n",
        "            response = \"I'm sorry, I don't know how to respond to that.\"\n",
        "\n",
        "\n",
        "\n"
      ]
    },
    {
      "cell_type": "code",
      "source": [
        "def retrieve_similar_hadiths(query, model, index, hadith_df, k=5):\n",
        "    # Preprocess and embed the query\n",
        "    query_embedding = model.encode([clean_text(query)])\n",
        "\n",
        "    # Search the FAISS index for similar Hadiths\n",
        "    distances, indices = index.search(query_embedding, k)\n",
        "\n",
        "    # Retrieve and print the top-k Hadiths\n",
        "    for i in range(k):\n",
        "        print(f\"Hadith {i+1}:\")\n",
        "        print(hadith_df['Hadith'].iloc[indices[0][i]])\n",
        "        print(f\"Distance: {distances[0][i]}\\n\")"
      ],
      "metadata": {
        "id": "Y3C5YFsOhAY2"
      },
      "id": "Y3C5YFsOhAY2",
      "execution_count": 24,
      "outputs": []
    },
    {
      "cell_type": "code",
      "source": [
        "index = faiss.read_index('/hadith_faiss_en.index')"
      ],
      "metadata": {
        "id": "13QPbivihA_m"
      },
      "id": "13QPbivihA_m",
      "execution_count": 19,
      "outputs": []
    },
    {
      "cell_type": "code",
      "source": [
        "hadith_df_en = pd.read_csv('/cleaned_hadith_data_english.csv')\n"
      ],
      "metadata": {
        "id": "uqTAyuzchMcn"
      },
      "id": "uqTAyuzchMcn",
      "execution_count": 20,
      "outputs": []
    },
    {
      "cell_type": "code",
      "source": [
        "model = SentenceTransformer('paraphrase-MiniLM-L6-v2')"
      ],
      "metadata": {
        "id": "Rij6dLo5hXcI"
      },
      "id": "Rij6dLo5hXcI",
      "execution_count": 21,
      "outputs": []
    },
    {
      "cell_type": "code",
      "source": [
        "chat()"
      ],
      "metadata": {
        "colab": {
          "base_uri": "https://localhost:8080/"
        },
        "id": "GWixH_fkjmCM",
        "outputId": "2e3ebb6a-1305-43f8-9009-8277f19d25de"
      },
      "id": "GWixH_fkjmCM",
      "execution_count": 25,
      "outputs": [
        {
          "output_type": "stream",
          "name": "stdout",
          "text": [
            "Hello! I am your hotel assistant. How can I help you today?\n",
            "You: hadith\n",
            "Bot: Write your Querey here.\n",
            "You:fasting in ramadan\n",
            "Hadith 1:\n",
            "Narrated Abu Ayyub: The Prophet (ﷺ) as saying: If anyone fasts during Ramadan, then follows it with six days in Shawwal, it will be like a perpetual fast.\n",
            "Distance: 28.837886810302734\n",
            "\n",
            "Hadith 2:\n",
            "It was narrated from Abu Hurairah that the Messenger of Allah (ﷺ) said: ‘Do not anticipate Ramadan by fasting one or two days before, except for a man who has a habitual pattern of fasting, in which case let him fast.”\n",
            "Distance: 30.951087951660156\n",
            "\n",
            "Hadith 3:\n",
            "Abu Ayub narrated that : the Messenger of Allah said: \"Whoever fasts Ramadan, then follows it with six from Shawwal, then that is (equal in reward) to fasting everyday.\"\n",
            "Distance: 34.41267013549805\n",
            "\n",
            "Hadith 4:\n",
            "Narrated Abdullah ibn Abbas: The Prophet (ﷺ) said: Do not fast one day or two days just before Ramadan except in the case of a man who has been in the habit or observing a fast (on that day); and do not fast until you sight it (the moon). Then fast until you sight it. If a cloud appears on that day (i.e. 29th of Ramadan) then complete the number thirty (days) and then end the fasting: a month consists of twenty-nine days.\n",
            "Distance: 34.63370895385742\n",
            "\n",
            "Hadith 5:\n",
            "Abu Hurairah narrated that : the Messenger of Allah said: \"Do no precede the month of Ramadan by fasting a day or two before it, unless it is the case of a man who normally performs some fast, then let him fast it.\"\n",
            "Distance: 34.73879623413086\n",
            "\n",
            "You: bye\n",
            "Bot: Goodbye! Have a great stay at our hotel.\n"
          ]
        }
      ]
    },
    {
      "cell_type": "code",
      "source": [
        "def clean_text(text):\n",
        "    # removing special characters, digits, etc.\n",
        "    if isinstance(text, str):\n",
        "        text = re.sub(r'[^A-Za-z\\s]', '', text)\n",
        "        text = text.lower()\n",
        "    else:\n",
        "        text = ''\n",
        "    return text"
      ],
      "metadata": {
        "id": "V2JXsf7qj9d1"
      },
      "id": "V2JXsf7qj9d1",
      "execution_count": 23,
      "outputs": []
    },
    {
      "cell_type": "code",
      "source": [],
      "metadata": {
        "id": "six8ZlxrmVBv"
      },
      "id": "six8ZlxrmVBv",
      "execution_count": null,
      "outputs": []
    }
  ],
  "metadata": {
    "language_info": {
      "name": "python"
    },
    "colab": {
      "provenance": []
    },
    "kernelspec": {
      "name": "python3",
      "display_name": "Python 3"
    }
  },
  "nbformat": 4,
  "nbformat_minor": 5
}