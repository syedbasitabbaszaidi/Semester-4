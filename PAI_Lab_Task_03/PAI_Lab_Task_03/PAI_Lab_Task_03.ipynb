{
 "cells": [
  {
   "cell_type": "markdown",
   "id": "d873e737",
   "metadata": {},
   "source": [
    "# Water jug problem (DFS)"
   ]
  },
  {
   "cell_type": "code",
   "execution_count": 1,
   "id": "839cdcd0",
   "metadata": {},
   "outputs": [
    {
     "name": "stdout",
     "output_type": "stream",
     "text": [
      "Ssolution found\n",
      "(0, 0) Rule Number : None\n",
      "(0, 3) Rule Number : 2\n",
      "(3, 0) Rule Number : 7\n",
      "(3, 3) Rule Number : 2\n",
      "(4, 2) Rule Number : 5\n"
     ]
    },
    {
     "data": {
      "text/plain": [
       "True"
      ]
     },
     "execution_count": 1,
     "metadata": {},
     "output_type": "execute_result"
    }
   ],
   "source": [
    "def waterJug(cap1,cap2,goal):\n",
    "    stack = []\n",
    "    visited = set()\n",
    "    actions = []\n",
    "    stack.append((0,0))\n",
    "    visited.add((0,0))\n",
    "    j = None\n",
    "    while stack:\n",
    "        jug1 , jug2 = stack.pop()\n",
    "        actions.append((jug1,jug2,j))\n",
    "        if jug1 == goal or jug2 == goal:\n",
    "            print(\"Ssolution found\")\n",
    "            for action in actions:\n",
    "                print(f\"{action[:2]} Rule Number : {action[2]}\")\n",
    "            return True\n",
    "        rules = {\n",
    "            '1':(cap1,jug2),\n",
    "            '2':(jug1,cap2),\n",
    "            '3':(0,jug2),\n",
    "            '4':(cap1,0),\n",
    "            '5':(cap1,jug2 - (cap1-jug1)),\n",
    "            '6':(jug1 - (cap2-jug2),cap2),\n",
    "            '7':(jug1+jug2,0),\n",
    "            '8':(0,jug1+jug2)\n",
    "        }\n",
    "        for i in rules:\n",
    "            if i == '1' or i == '2':\n",
    "                if rules[i] not in visited:\n",
    "                    stack.append(rules[i])\n",
    "                    visited.add(rules[i])\n",
    "                    if rules[i] == '1':\n",
    "                        j = '1'\n",
    "                    else:\n",
    "                        j = '2'\n",
    "            elif i == '3':\n",
    "                if rules[i] not in visited:\n",
    "                    if jug1 > 0:\n",
    "                        stack.append(rules[i])\n",
    "                        visited.add(rules[i])\n",
    "                        j = '3'\n",
    "            elif i == '4':\n",
    "                if rules[i] not in visited:\n",
    "                    if jug2 > 0:\n",
    "                        stack.append(rules[i])\n",
    "                        visited.add(rules[i])\n",
    "                        j = '4'\n",
    "            elif i == '5':\n",
    "                if rules[i] not in visited:\n",
    "                    if jug2 > 0 and jug1+jug2 >= cap1:\n",
    "                        stack.append(rules[i])\n",
    "                        visited.add(rules[i])\n",
    "                        j = '5'\n",
    "            elif i == '6':\n",
    "                if rules[i] not in visited:\n",
    "                    if jug1 > 0 and jug1+jug2 >= cap2:\n",
    "                        stack.append(rules[i])\n",
    "                        visited.add(rules[i])\n",
    "                        j = '6'\n",
    "            elif i == '7':\n",
    "                if rules[i] not in visited:\n",
    "                    if jug2 > 0 and jug1+jug2 <= cap1:\n",
    "                        stack.append(rules[i])\n",
    "                        visited.add(rules[i])\n",
    "                        j = '7'\n",
    "            elif i == '8':\n",
    "                if rules[i] not in visited:\n",
    "                    if jug1 > 0 and jug1+jug2 <= cap1:\n",
    "                        stack.append(rules[i])\n",
    "                        visited.add(rules[i])\n",
    "                        j = '8'\n",
    "waterJug(4,3,2)"
   ]
  },
  {
   "cell_type": "code",
   "execution_count": null,
   "id": "7e8fa28c",
   "metadata": {},
   "outputs": [],
   "source": []
  },
  {
   "cell_type": "code",
   "execution_count": null,
   "id": "4422036d",
   "metadata": {},
   "outputs": [],
   "source": []
  }
 ],
 "metadata": {
  "kernelspec": {
   "display_name": "Python 3 (ipykernel)",
   "language": "python",
   "name": "python3"
  },
  "language_info": {
   "codemirror_mode": {
    "name": "ipython",
    "version": 3
   },
   "file_extension": ".py",
   "mimetype": "text/x-python",
   "name": "python",
   "nbconvert_exporter": "python",
   "pygments_lexer": "ipython3",
   "version": "3.11.5"
  }
 },
 "nbformat": 4,
 "nbformat_minor": 5
}
